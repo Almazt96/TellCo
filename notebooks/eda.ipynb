{
 "cells": [
  {
   "cell_type": "code",
   "execution_count": 3,
   "metadata": {},
   "outputs": [
    {
     "name": "stderr",
     "output_type": "stream",
     "text": [
      "C:\\Users\\Almazt\\AppData\\Local\\Temp\\ipykernel_24632\\2991307411.py:18: UserWarning: pandas only supports SQLAlchemy connectable (engine/connection) or database string URI or sqlite3 DBAPI2 connection. Other DBAPI2 objects are not tested. Please consider using SQLAlchemy.\n",
      "  df = pd.read_sql_query(query, connection)\n"
     ]
    }
   ],
   "source": [
    "import psycopg2\n",
    "import pandas as pd\n",
    "\n",
    "# Connect to psycopg2 database (or create it if it doesn't exist)\n",
    "from sqlalchemy import create_engine\n",
    "\n",
    "connection = psycopg2.connect(\"dbname=Teleco user=postgres password=Leul@123\")\n",
    "\n",
    "# Create a cursor object to interact with the database\n",
    "cursor = connection.cursor()\n",
    "\n",
    "# Query the data\n",
    "query = \"SELECT * FROM xdr_data\"\n",
    "\n",
    "# Execute the query\n",
    "\n",
    "# Load data into a pandas DataFrame\n",
    "df = pd.read_sql_query(query, connection)\n",
    "\n",
    "# Exploratory Data Analysis (EDA)\n",
    "# Handle Missing Values & Outliers\n",
    "# Perform the same steps in Python after fetching the data as in-memory DataFrame:\n",
    "\n",
    "# Fill missing values and cap outliers\n",
    "df.fillna({'duration': df['duration'].mean(),\n",
    "           'TotaldL': df['Totaldl'].mean(),\n",
    "           'TotaluL': df['Totalul'].mean()}, inplace=True) \n",
    "\n",
    "# Cap extreme values\n",
    "for col in ['duration', 'Totaldl', 'Totalul']:\n",
    "    lower, upper = df[col].quantile(0.05), df[col].quantile(0.95)\n",
    "    df[col] = df[col].clip(lower, upper)\n",
    "\n",
    "import pickle\n",
    "# with open(\"../Task 1 User Overview Analysis/data/user_overview.pkl\", \"wb\") as f:\n",
    "#     pickle.dump(df, f)\n",
    "df.to_csv(\"../notebooks/data/user_overview.csv\", index=False)"
   ]
  },
  {
   "cell_type": "code",
   "execution_count": null,
   "metadata": {},
   "outputs": [],
   "source": []
  }
 ],
 "metadata": {
  "kernelspec": {
   "display_name": "myenv",
   "language": "python",
   "name": "python3"
  },
  "language_info": {
   "codemirror_mode": {
    "name": "ipython",
    "version": 3
   },
   "file_extension": ".py",
   "mimetype": "text/x-python",
   "name": "python",
   "nbconvert_exporter": "python",
   "pygments_lexer": "ipython3",
   "version": "3.10.16"
  }
 },
 "nbformat": 4,
 "nbformat_minor": 2
}
